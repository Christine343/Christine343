{
 "cells": [
  {
   "cell_type": "code",
   "execution_count": 1,
   "id": "db08a9a2-921e-4894-9703-a5a9fe3b8c3c",
   "metadata": {},
   "outputs": [
    {
     "name": "stdout",
     "output_type": "stream",
     "text": [
      "hello world\n"
     ]
    }
   ],
   "source": [
    "print('hello world')"
   ]
  },
  {
   "cell_type": "code",
   "execution_count": 2,
   "id": "ac027cd9-1b4d-42c0-a21e-34cd2734a57e",
   "metadata": {},
   "outputs": [
    {
     "name": "stdout",
     "output_type": "stream",
     "text": [
      "hello world\n"
     ]
    }
   ],
   "source": [
    "print('hello world')"
   ]
  },
  {
   "cell_type": "code",
   "execution_count": 3,
   "id": "334296df-5d5e-4671-adf4-0a34f6d3b44d",
   "metadata": {},
   "outputs": [
    {
     "data": {
      "text/plain": [
       "'hello world'"
      ]
     },
     "execution_count": 3,
     "metadata": {},
     "output_type": "execute_result"
    }
   ],
   "source": [
    "'hello world'"
   ]
  },
  {
   "cell_type": "code",
   "execution_count": 4,
   "id": "d0345e0c-fd71-4f4d-8792-75938ca6af34",
   "metadata": {},
   "outputs": [
    {
     "ename": "SyntaxError",
     "evalue": "invalid syntax (<ipython-input-4-4c69aed93a25>, line 1)",
     "output_type": "error",
     "traceback": [
      "\u001b[1;36m  File \u001b[1;32m\"<ipython-input-4-4c69aed93a25>\"\u001b[1;36m, line \u001b[1;32m1\u001b[0m\n\u001b[1;33m    This is plain text\u001b[0m\n\u001b[1;37m                  ^\u001b[0m\n\u001b[1;31mSyntaxError\u001b[0m\u001b[1;31m:\u001b[0m invalid syntax\n"
     ]
    }
   ],
   "source": [
    "This is plain text"
   ]
  },
  {
   "cell_type": "markdown",
   "id": "bf2976ad-c106-4ca8-b441-43ff16ccfd52",
   "metadata": {},
   "source": [
    "This is plain text"
   ]
  },
  {
   "cell_type": "code",
   "execution_count": 7,
   "id": "6887e007-f325-473a-bb8d-5d1328db1c29",
   "metadata": {},
   "outputs": [],
   "source": [
    "import pandas"
   ]
  },
  {
   "cell_type": "code",
   "execution_count": 1,
   "id": "e5566975-eb82-4469-86aa-8f936349f30f",
   "metadata": {},
   "outputs": [],
   "source": [
    "import pandas as pd"
   ]
  },
  {
   "cell_type": "code",
   "execution_count": 2,
   "id": "5c522980-c308-4496-abed-ad082a649073",
   "metadata": {},
   "outputs": [
    {
     "ename": "SyntaxError",
     "evalue": "invalid syntax (Temp/ipykernel_10640/1176085438.py, line 1)",
     "output_type": "error",
     "traceback": [
      "\u001b[1;36m  File \u001b[1;32m\"C:\\Users\\CHRIST~1.MUR\\AppData\\Local\\Temp/ipykernel_10640/1176085438.py\"\u001b[1;36m, line \u001b[1;32m1\u001b[0m\n\u001b[1;33m    pd.read_csv(C:\\Users\\Christine.Murphy\\OneDrive - Concern Worldwide\\2022\\UCD_Course\\archive\\coin_Ethereum)\u001b[0m\n\u001b[1;37m                 ^\u001b[0m\n\u001b[1;31mSyntaxError\u001b[0m\u001b[1;31m:\u001b[0m invalid syntax\n"
     ]
    }
   ],
   "source": [
    "pd.read_csv(C:\\Users\\Christine.Murphy\\OneDrive - Concern Worldwide\\2022\\UCD_Course\\archive\\coin_Ethereum)"
   ]
  },
  {
   "cell_type": "code",
   "execution_count": 3,
   "id": "9804bf18-a563-4958-b455-39ceae8586a8",
   "metadata": {},
   "outputs": [
    {
     "name": "stdout",
     "output_type": "stream",
     "text": [
      "0.625\n"
     ]
    }
   ],
   "source": [
    "print(5/8)"
   ]
  },
  {
   "cell_type": "code",
   "execution_count": 4,
   "id": "2d5f84fe-60e5-41bd-98ba-eecd3f483796",
   "metadata": {},
   "outputs": [],
   "source": [
    "from datetime import datetime"
   ]
  },
  {
   "cell_type": "code",
   "execution_count": 6,
   "id": "68844747-183a-4b8a-ae71-e74a817f459c",
   "metadata": {},
   "outputs": [
    {
     "name": "stdout",
     "output_type": "stream",
     "text": [
      "1987-10-19 00:00:00\n"
     ]
    }
   ],
   "source": [
    "black_monday = datetime(1987,10,19)\n",
    "print(black_monday)"
   ]
  },
  {
   "cell_type": "code",
   "execution_count": 7,
   "id": "7cff059e-c361-48f6-9497-bf326086fd47",
   "metadata": {},
   "outputs": [
    {
     "data": {
      "text/plain": [
       "datetime.datetime(2022, 4, 21, 15, 42, 1, 934801)"
      ]
     },
     "execution_count": 7,
     "metadata": {},
     "output_type": "execute_result"
    }
   ],
   "source": [
    "datetime.now()"
   ]
  },
  {
   "cell_type": "code",
   "execution_count": 11,
   "id": "47c7443f-bb60-4a62-8c3e-2fd3a437c3cb",
   "metadata": {},
   "outputs": [
    {
     "ename": "AttributeError",
     "evalue": "type object 'datetime.datetime' has no attribute 'datetime'",
     "output_type": "error",
     "traceback": [
      "\u001b[1;31m---------------------------------------------------------------------------\u001b[0m",
      "\u001b[1;31mAttributeError\u001b[0m                            Traceback (most recent call last)",
      "\u001b[1;32mC:\\Users\\CHRIST~1.MUR\\AppData\\Local\\Temp/ipykernel_10640/1138481281.py\u001b[0m in \u001b[0;36m<module>\u001b[1;34m\u001b[0m\n\u001b[0;32m      1\u001b[0m \u001b[0mblack_monday_str\u001b[0m \u001b[1;33m=\u001b[0m \u001b[1;34m'Monday, October 19, 1987. 9.30am'\u001b[0m\u001b[1;33m\u001b[0m\u001b[1;33m\u001b[0m\u001b[0m\n\u001b[0;32m      2\u001b[0m \u001b[0mformat_str\u001b[0m\u001b[1;33m=\u001b[0m\u001b[1;34m'%A, %B, %d, %Y. %I:%M %P'\u001b[0m\u001b[1;33m\u001b[0m\u001b[1;33m\u001b[0m\u001b[0m\n\u001b[1;32m----> 3\u001b[1;33m \u001b[0mdatetime\u001b[0m\u001b[1;33m.\u001b[0m\u001b[0mdatetime\u001b[0m\u001b[1;33m.\u001b[0m\u001b[0mstrptime\u001b[0m\u001b[1;33m(\u001b[0m\u001b[0mblack_monday_str\u001b[0m\u001b[1;33m,\u001b[0m \u001b[0mformat_str\u001b[0m\u001b[1;33m)\u001b[0m\u001b[1;33m\u001b[0m\u001b[1;33m\u001b[0m\u001b[0m\n\u001b[0m",
      "\u001b[1;31mAttributeError\u001b[0m: type object 'datetime.datetime' has no attribute 'datetime'"
     ]
    }
   ],
   "source": [
    "black_monday_str = 'Monday, October 19, 1987. 9.30am'\n",
    "format_str='%A, %B, %d, %Y. %I:%M %P'\n",
    "datetime.datetime.strptime(black_monday_str, format_str)"
   ]
  },
  {
   "cell_type": "code",
   "execution_count": 12,
   "id": "03e11920-c8a9-4407-8ebb-d44a92f3fb17",
   "metadata": {},
   "outputs": [],
   "source": [
    "import pandas as pd"
   ]
  },
  {
   "cell_type": "code",
   "execution_count": 13,
   "id": "9b760231-34f8-4747-b344-2718cf1a0738",
   "metadata": {},
   "outputs": [
    {
     "ename": "NameError",
     "evalue": "name 'brics_dict' is not defined",
     "output_type": "error",
     "traceback": [
      "\u001b[1;31m---------------------------------------------------------------------------\u001b[0m",
      "\u001b[1;31mNameError\u001b[0m                                 Traceback (most recent call last)",
      "\u001b[1;32mC:\\Users\\CHRIST~1.MUR\\AppData\\Local\\Temp/ipykernel_10640/552093840.py\u001b[0m in \u001b[0;36m<module>\u001b[1;34m\u001b[0m\n\u001b[1;32m----> 1\u001b[1;33m \u001b[0mbrics_df\u001b[0m \u001b[1;33m=\u001b[0m \u001b[0mpd\u001b[0m\u001b[1;33m.\u001b[0m\u001b[0mDataFrame\u001b[0m\u001b[1;33m(\u001b[0m\u001b[0mbrics_dict\u001b[0m\u001b[1;33m)\u001b[0m\u001b[1;33m\u001b[0m\u001b[1;33m\u001b[0m\u001b[0m\n\u001b[0m\u001b[0;32m      2\u001b[0m \u001b[0mbrics_df\u001b[0m\u001b[1;33m\u001b[0m\u001b[1;33m\u001b[0m\u001b[0m\n",
      "\u001b[1;31mNameError\u001b[0m: name 'brics_dict' is not defined"
     ]
    }
   ],
   "source": [
    "brics_df = pd.DataFrame(brics_dict)\n",
    "brics_df"
   ]
  },
  {
   "cell_type": "code",
   "execution_count": 14,
   "id": "6e730073-b955-4430-a9b1-1e7ba40fb978",
   "metadata": {},
   "outputs": [
    {
     "data": {
      "text/plain": [
       "True"
      ]
     },
     "execution_count": 14,
     "metadata": {},
     "output_type": "execute_result"
    }
   ],
   "source": [
    "True"
   ]
  },
  {
   "cell_type": "code",
   "execution_count": 15,
   "id": "e07bfdb1-0aa7-4f00-96cb-b2af5f741a0a",
   "metadata": {},
   "outputs": [
    {
     "data": {
      "text/plain": [
       "False"
      ]
     },
     "execution_count": 15,
     "metadata": {},
     "output_type": "execute_result"
    }
   ],
   "source": [
    "False"
   ]
  },
  {
   "cell_type": "code",
   "execution_count": 16,
   "id": "6d80fb39-8452-491e-9aca-2d56b3d13977",
   "metadata": {},
   "outputs": [],
   "source": [
    "x = 1"
   ]
  },
  {
   "cell_type": "code",
   "execution_count": 17,
   "id": "9a715a90-895c-40a2-9ce4-5e6afe0a8cdc",
   "metadata": {},
   "outputs": [
    {
     "data": {
      "text/plain": [
       "int"
      ]
     },
     "execution_count": 17,
     "metadata": {},
     "output_type": "execute_result"
    }
   ],
   "source": [
    "type(x)"
   ]
  },
  {
   "cell_type": "code",
   "execution_count": 18,
   "id": "ecfee050-3326-4159-a5e6-a5230fa9a0cf",
   "metadata": {},
   "outputs": [
    {
     "data": {
      "text/plain": [
       "float"
      ]
     },
     "execution_count": 18,
     "metadata": {},
     "output_type": "execute_result"
    }
   ],
   "source": [
    "pi = 3.14\n",
    "type(pi)"
   ]
  },
  {
   "cell_type": "code",
   "execution_count": 19,
   "id": "8dde6e65-418a-4772-9011-4b6717bb2a75",
   "metadata": {},
   "outputs": [],
   "source": [
    "string = 'Christine'\n",
    "string2 = \"Christine\"\n",
    "string3 = '''Christine'''"
   ]
  },
  {
   "cell_type": "code",
   "execution_count": 20,
   "id": "f10b77e6-a336-4427-b743-d4708adf82f2",
   "metadata": {},
   "outputs": [
    {
     "data": {
      "text/plain": [
       "5"
      ]
     },
     "execution_count": 20,
     "metadata": {},
     "output_type": "execute_result"
    }
   ],
   "source": [
    "2 + 3"
   ]
  },
  {
   "cell_type": "code",
   "execution_count": 24,
   "id": "86613779-d0c6-4b2f-9b89-4306a4c27914",
   "metadata": {},
   "outputs": [
    {
     "data": {
      "text/plain": [
       "'hello World'"
      ]
     },
     "execution_count": 24,
     "metadata": {},
     "output_type": "execute_result"
    }
   ],
   "source": [
    "'hello' + ' World'"
   ]
  },
  {
   "cell_type": "code",
   "execution_count": 27,
   "id": "2db1e8c4-1530-4ec4-b702-3cef102d44ca",
   "metadata": {},
   "outputs": [
    {
     "data": {
      "text/plain": [
       "'Go on Go on Go on Go on Go on '"
      ]
     },
     "execution_count": 27,
     "metadata": {},
     "output_type": "execute_result"
    }
   ],
   "source": [
    "'Go on ' * 5\n"
   ]
  },
  {
   "cell_type": "code",
   "execution_count": 29,
   "id": "05d4a799-efa1-4d6e-a4b5-77d42d86a029",
   "metadata": {},
   "outputs": [
    {
     "data": {
      "text/plain": [
       "4.25"
      ]
     },
     "execution_count": 29,
     "metadata": {},
     "output_type": "execute_result"
    }
   ],
   "source": [
    "8.5 / 2"
   ]
  },
  {
   "cell_type": "code",
   "execution_count": 30,
   "id": "274624f4-4120-4e07-898b-35921e2c63ad",
   "metadata": {},
   "outputs": [
    {
     "data": {
      "text/plain": [
       "2"
      ]
     },
     "execution_count": 30,
     "metadata": {},
     "output_type": "execute_result"
    }
   ],
   "source": [
    "9 // 4"
   ]
  },
  {
   "cell_type": "code",
   "execution_count": 32,
   "id": "ca98575b-ec98-4c18-b3c8-caffdeb0e614",
   "metadata": {},
   "outputs": [
    {
     "ename": "SyntaxError",
     "evalue": "invalid syntax (Temp/ipykernel_10640/1649042421.py, line 1)",
     "output_type": "error",
     "traceback": [
      "\u001b[1;36m  File \u001b[1;32m\"C:\\Users\\CHRIST~1.MUR\\AppData\\Local\\Temp/ipykernel_10640/1649042421.py\"\u001b[1;36m, line \u001b[1;32m1\u001b[0m\n\u001b[1;33m    9 ~ 2\u001b[0m\n\u001b[1;37m      ^\u001b[0m\n\u001b[1;31mSyntaxError\u001b[0m\u001b[1;31m:\u001b[0m invalid syntax\n"
     ]
    }
   ],
   "source": [
    "9 ~ 2"
   ]
  },
  {
   "cell_type": "code",
   "execution_count": 33,
   "id": "dd05c7f4-8f88-4d1f-a8f5-15007020f708",
   "metadata": {},
   "outputs": [],
   "source": [
    "x = 10\n",
    "colour ='Red'"
   ]
  },
  {
   "cell_type": "code",
   "execution_count": 34,
   "id": "126716d9-3542-4287-affd-6fd8e4789c8e",
   "metadata": {},
   "outputs": [
    {
     "name": "stdout",
     "output_type": "stream",
     "text": [
      "2\n"
     ]
    }
   ],
   "source": [
    "i = 1\n",
    "i = i + 1\n",
    "print(i)"
   ]
  },
  {
   "cell_type": "code",
   "execution_count": 36,
   "id": "06b15fa8-ddc6-4bab-aef5-35166870ec4f",
   "metadata": {},
   "outputs": [
    {
     "name": "stdout",
     "output_type": "stream",
     "text": [
      "4\n"
     ]
    }
   ],
   "source": [
    "i += 1\n",
    "print(i)"
   ]
  },
  {
   "cell_type": "code",
   "execution_count": 1,
   "id": "210b7a59-06b6-4ce1-8b85-f43159d40a83",
   "metadata": {},
   "outputs": [],
   "source": [
    "from datetime import datetime\n",
    "asian_crisis = (1997, 7, 2)\n",
    "world_mini_crash = (1997, 10, 21)"
   ]
  },
  {
   "cell_type": "code",
   "execution_count": 2,
   "id": "e1619e30",
   "metadata": {},
   "outputs": [
    {
     "data": {
      "text/plain": [
       "False"
      ]
     },
     "execution_count": 2,
     "metadata": {},
     "output_type": "execute_result"
    }
   ],
   "source": [
    "asian_crisis > world_mini_crash"
   ]
  },
  {
   "cell_type": "code",
   "execution_count": 3,
   "id": "79ea3f87",
   "metadata": {},
   "outputs": [
    {
     "data": {
      "text/plain": [
       "True"
      ]
     },
     "execution_count": 3,
     "metadata": {},
     "output_type": "execute_result"
    }
   ],
   "source": [
    "asian_crisis < world_mini_crash"
   ]
  },
  {
   "cell_type": "code",
   "execution_count": 6,
   "id": "53191b0c",
   "metadata": {},
   "outputs": [
    {
     "ename": "TypeError",
     "evalue": "unsupported operand type(s) for -: 'tuple' and 'tuple'",
     "output_type": "error",
     "traceback": [
      "\u001b[1;31m---------------------------------------------------------------------------\u001b[0m",
      "\u001b[1;31mTypeError\u001b[0m                                 Traceback (most recent call last)",
      "\u001b[1;32mC:\\Users\\CHRIST~1.MUR\\AppData\\Local\\Temp/ipykernel_2780/237163052.py\u001b[0m in \u001b[0;36m<module>\u001b[1;34m\u001b[0m\n\u001b[1;32m----> 1\u001b[1;33m \u001b[0mdelta\u001b[0m \u001b[1;33m=\u001b[0m \u001b[0mworld_mini_crash\u001b[0m \u001b[1;33m-\u001b[0m \u001b[0masian_crisis\u001b[0m\u001b[1;33m\u001b[0m\u001b[1;33m\u001b[0m\u001b[0m\n\u001b[0m\u001b[0;32m      2\u001b[0m \u001b[0mtype\u001b[0m\u001b[1;33m(\u001b[0m\u001b[0mdelta\u001b[0m\u001b[1;33m)\u001b[0m\u001b[1;33m\u001b[0m\u001b[1;33m\u001b[0m\u001b[0m\n",
      "\u001b[1;31mTypeError\u001b[0m: unsupported operand type(s) for -: 'tuple' and 'tuple'"
     ]
    }
   ],
   "source": [
    "delta = world_mini_crash - asian_crisis\n",
    "type(delta)"
   ]
  },
  {
   "cell_type": "code",
   "execution_count": 7,
   "id": "3ee7157a",
   "metadata": {},
   "outputs": [
    {
     "ename": "AttributeError",
     "evalue": "type object 'datetime.datetime' has no attribute 'timedelta'",
     "output_type": "error",
     "traceback": [
      "\u001b[1;31m---------------------------------------------------------------------------\u001b[0m",
      "\u001b[1;31mAttributeError\u001b[0m                            Traceback (most recent call last)",
      "\u001b[1;32mC:\\Users\\CHRIST~1.MUR\\AppData\\Local\\Temp/ipykernel_2780/3396637385.py\u001b[0m in \u001b[0;36m<module>\u001b[1;34m\u001b[0m\n\u001b[1;32m----> 1\u001b[1;33m \u001b[0mdatetime\u001b[0m\u001b[1;33m.\u001b[0m\u001b[0mtimedelta\u001b[0m\u001b[1;33m\u001b[0m\u001b[1;33m\u001b[0m\u001b[0m\n\u001b[0m",
      "\u001b[1;31mAttributeError\u001b[0m: type object 'datetime.datetime' has no attribute 'timedelta'"
     ]
    }
   ],
   "source": [
    "datetime.timedelta"
   ]
  },
  {
   "cell_type": "code",
   "execution_count": 1,
   "id": "5d9a4813",
   "metadata": {},
   "outputs": [
    {
     "name": "stdout",
     "output_type": "stream",
     "text": [
      "hello world\n"
     ]
    }
   ],
   "source": [
    "print(\"hello world\")"
   ]
  },
  {
   "cell_type": "markdown",
   "id": "902a6cdb-7071-47bd-b30e-fce9d2858244",
   "metadata": {},
   "source": [
    "# My notebook"
   ]
  },
  {
   "cell_type": "code",
   "execution_count": 1,
   "id": "08a7d97a",
   "metadata": {},
   "outputs": [
    {
     "name": "stdout",
     "output_type": "stream",
     "text": [
      "hello world\n"
     ]
    }
   ],
   "source": [
    "print(\"hello world\")"
   ]
  }
 ],
 "metadata": {
  "kernelspec": {
   "display_name": "Python 3 (ipykernel)",
   "language": "python",
   "name": "python3"
  },
  "language_info": {
   "codemirror_mode": {
    "name": "ipython",
    "version": 3
   },
   "file_extension": ".py",
   "mimetype": "text/x-python",
   "name": "python",
   "nbconvert_exporter": "python",
   "pygments_lexer": "ipython3",
   "version": "3.9.7"
  }
 },
 "nbformat": 4,
 "nbformat_minor": 5
}
